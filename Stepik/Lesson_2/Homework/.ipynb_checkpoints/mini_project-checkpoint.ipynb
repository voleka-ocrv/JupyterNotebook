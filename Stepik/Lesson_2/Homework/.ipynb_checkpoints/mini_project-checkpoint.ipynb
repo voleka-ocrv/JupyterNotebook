{
 "cells": [
  {
   "cell_type": "markdown",
   "id": "efd94d9e",
   "metadata": {},
   "source": [
    "# Задачи\n",
    "    [x] Импортируйте библиотеку pandas как pd. Загрузите датасет bookings.csv с разделителем ;. \n",
    "\n",
    "    [x] Проверьте размер таблицы, типы переменных, а затем выведите первые 7 строк, чтобы посмотреть на данные. \n",
    "\n",
    "    [x] Приведите названия колонок к нижнему регистру и замените пробелы на знак нижнего подчеркивания.\n",
    "\n",
    "    [x] Пользователи из каких стран совершили наибольшее число успешных бронирований? Укажите топ-5.\n",
    "\n",
    "    [x] На сколько ночей в среднем бронируют отели разных типов?\n",
    "\n",
    "    [ ] Иногда тип номера, полученного клиентом (assigned_room_type), отличается от изначально забронированного (reserved_room_type). Такое может произойти, например, по причине овербукинга. Сколько подобных наблюдений встретилось в датасете?\n",
    "\n",
    "    [ ] Проанализируйте даты запланированного прибытия. \n",
    "        – На какой месяц чаще всего успешно оформляли бронь в 2016? Изменился ли самый популярный месяц в 2017?\n",
    "        – Сгруппируйте данные по годам и проверьте, на какой месяц бронирования отеля типа City Hotel отменялись чаще всего в каждый из периодов.\n",
    "\n",
    "    [ ] Посмотрите на числовые характеристики трёх переменных: adults, children и babies. Какая из них имеет наибольшее среднее значение?\n",
    "\n",
    "    [ ] Создайте колонку total_kids, объединив children и babies. Отели какого типа в среднем пользуются большей популярностью у клиентов с детьми?\n",
    "\n",
    "    [ ] Создайте переменную has_kids, которая принимает значение True, если клиент при бронировании указал хотя бы одного ребенка (total_kids), и False – в противном случае. Посчитайте отношение количества ушедших пользователей к общему количеству клиентов, выраженное в процентах (churn rate). Укажите, среди какой группы показатель выше."
   ]
  },
  {
   "cell_type": "code",
   "execution_count": 1,
   "id": "e559e2a1",
   "metadata": {},
   "outputs": [],
   "source": [
    "import pandas as pd"
   ]
  },
  {
   "cell_type": "code",
   "execution_count": 10,
   "id": "5fc04d4c",
   "metadata": {},
   "outputs": [],
   "source": [
    "booking = pd.read_csv('https://stepik.org/media/attachments/lesson/360344/bookings.csv' \\\n",
    "                      ,sep=';' \\\n",
    "                      ,date_parser=['arrival full date','Reservation status_date'])"
   ]
  },
  {
   "cell_type": "markdown",
   "id": "b3f6afa0",
   "metadata": {},
   "source": [
    "## Rename columns into lowcase with underscore"
   ]
  },
  {
   "cell_type": "code",
   "execution_count": 16,
   "id": "4e318b24",
   "metadata": {},
   "outputs": [],
   "source": [
    "def standard_name(name):\n",
    "    return name.lower().replace(' ', '_')"
   ]
  },
  {
   "cell_type": "code",
   "execution_count": 20,
   "id": "b8765963",
   "metadata": {},
   "outputs": [],
   "source": [
    "booking = booking.rename(columns=standard_name)"
   ]
  },
  {
   "cell_type": "code",
   "execution_count": 27,
   "id": "a3446a42",
   "metadata": {},
   "outputs": [
    {
     "data": {
      "text/plain": [
       "hotel                                object\n",
       "is_canceled                           int64\n",
       "lead_time                             int64\n",
       "arrival_full_date            datetime64[ns]\n",
       "arrival_date_year                     int64\n",
       "arrival_date_month                   object\n",
       "arrival_date_week_number              int64\n",
       "arrival_date_day_of_month             int64\n",
       "stays_in_weekend_nights               int64\n",
       "stays_in_week_nights                  int64\n",
       "stays_total_nights                    int64\n",
       "adults                                int64\n",
       "children                            float64\n",
       "babies                                int64\n",
       "meal                                 object\n",
       "country                              object\n",
       "reserved_room_type                   object\n",
       "assigned_room_type                   object\n",
       "customer_type                        object\n",
       "reservation_status                   object\n",
       "reservation_status_date      datetime64[ns]\n",
       "dtype: object"
      ]
     },
     "execution_count": 27,
     "metadata": {},
     "output_type": "execute_result"
    }
   ],
   "source": [
    "booking.dtypes"
   ]
  },
  {
   "cell_type": "code",
   "execution_count": 40,
   "id": "20d355c9",
   "metadata": {},
   "outputs": [
    {
     "data": {
      "text/html": [
       "<div>\n",
       "<style scoped>\n",
       "    .dataframe tbody tr th:only-of-type {\n",
       "        vertical-align: middle;\n",
       "    }\n",
       "\n",
       "    .dataframe tbody tr th {\n",
       "        vertical-align: top;\n",
       "    }\n",
       "\n",
       "    .dataframe thead th {\n",
       "        text-align: right;\n",
       "    }\n",
       "</style>\n",
       "<table border=\"1\" class=\"dataframe\">\n",
       "  <thead>\n",
       "    <tr style=\"text-align: right;\">\n",
       "      <th></th>\n",
       "      <th>hotel</th>\n",
       "      <th>is_canceled</th>\n",
       "      <th>lead_time</th>\n",
       "      <th>arrival_full_date</th>\n",
       "      <th>arrival_date_year</th>\n",
       "      <th>arrival_date_month</th>\n",
       "      <th>arrival_date_week_number</th>\n",
       "      <th>arrival_date_day_of_month</th>\n",
       "      <th>stays_in_weekend_nights</th>\n",
       "      <th>stays_in_week_nights</th>\n",
       "      <th>...</th>\n",
       "      <th>adults</th>\n",
       "      <th>children</th>\n",
       "      <th>babies</th>\n",
       "      <th>meal</th>\n",
       "      <th>country</th>\n",
       "      <th>reserved_room_type</th>\n",
       "      <th>assigned_room_type</th>\n",
       "      <th>customer_type</th>\n",
       "      <th>reservation_status</th>\n",
       "      <th>reservation_status_date</th>\n",
       "    </tr>\n",
       "  </thead>\n",
       "  <tbody>\n",
       "    <tr>\n",
       "      <th>40600</th>\n",
       "      <td>City Hotel</td>\n",
       "      <td>1</td>\n",
       "      <td>2</td>\n",
       "      <td>2015-08-03</td>\n",
       "      <td>2015</td>\n",
       "      <td>August</td>\n",
       "      <td>32</td>\n",
       "      <td>3</td>\n",
       "      <td>1</td>\n",
       "      <td>0</td>\n",
       "      <td>...</td>\n",
       "      <td>2</td>\n",
       "      <td>NaN</td>\n",
       "      <td>0</td>\n",
       "      <td>BB</td>\n",
       "      <td>PRT</td>\n",
       "      <td>B</td>\n",
       "      <td>B</td>\n",
       "      <td>Transient-Party</td>\n",
       "      <td>Canceled</td>\n",
       "      <td>2015-08-01</td>\n",
       "    </tr>\n",
       "    <tr>\n",
       "      <th>40667</th>\n",
       "      <td>City Hotel</td>\n",
       "      <td>1</td>\n",
       "      <td>1</td>\n",
       "      <td>2015-08-05</td>\n",
       "      <td>2015</td>\n",
       "      <td>August</td>\n",
       "      <td>32</td>\n",
       "      <td>5</td>\n",
       "      <td>0</td>\n",
       "      <td>2</td>\n",
       "      <td>...</td>\n",
       "      <td>2</td>\n",
       "      <td>NaN</td>\n",
       "      <td>0</td>\n",
       "      <td>BB</td>\n",
       "      <td>PRT</td>\n",
       "      <td>B</td>\n",
       "      <td>B</td>\n",
       "      <td>Transient-Party</td>\n",
       "      <td>Canceled</td>\n",
       "      <td>2015-08-04</td>\n",
       "    </tr>\n",
       "    <tr>\n",
       "      <th>40679</th>\n",
       "      <td>City Hotel</td>\n",
       "      <td>1</td>\n",
       "      <td>1</td>\n",
       "      <td>2015-08-05</td>\n",
       "      <td>2015</td>\n",
       "      <td>August</td>\n",
       "      <td>32</td>\n",
       "      <td>5</td>\n",
       "      <td>0</td>\n",
       "      <td>2</td>\n",
       "      <td>...</td>\n",
       "      <td>3</td>\n",
       "      <td>NaN</td>\n",
       "      <td>0</td>\n",
       "      <td>BB</td>\n",
       "      <td>PRT</td>\n",
       "      <td>B</td>\n",
       "      <td>B</td>\n",
       "      <td>Transient-Party</td>\n",
       "      <td>Canceled</td>\n",
       "      <td>2015-08-04</td>\n",
       "    </tr>\n",
       "    <tr>\n",
       "      <th>41160</th>\n",
       "      <td>City Hotel</td>\n",
       "      <td>1</td>\n",
       "      <td>8</td>\n",
       "      <td>2015-08-13</td>\n",
       "      <td>2015</td>\n",
       "      <td>August</td>\n",
       "      <td>33</td>\n",
       "      <td>13</td>\n",
       "      <td>2</td>\n",
       "      <td>5</td>\n",
       "      <td>...</td>\n",
       "      <td>2</td>\n",
       "      <td>NaN</td>\n",
       "      <td>0</td>\n",
       "      <td>BB</td>\n",
       "      <td>PRT</td>\n",
       "      <td>B</td>\n",
       "      <td>B</td>\n",
       "      <td>Transient-Party</td>\n",
       "      <td>Canceled</td>\n",
       "      <td>2015-08-09</td>\n",
       "    </tr>\n",
       "  </tbody>\n",
       "</table>\n",
       "<p>4 rows × 21 columns</p>\n",
       "</div>"
      ],
      "text/plain": [
       "            hotel  is_canceled  lead_time arrival_full_date  \\\n",
       "40600  City Hotel            1          2        2015-08-03   \n",
       "40667  City Hotel            1          1        2015-08-05   \n",
       "40679  City Hotel            1          1        2015-08-05   \n",
       "41160  City Hotel            1          8        2015-08-13   \n",
       "\n",
       "       arrival_date_year arrival_date_month  arrival_date_week_number  \\\n",
       "40600               2015             August                        32   \n",
       "40667               2015             August                        32   \n",
       "40679               2015             August                        32   \n",
       "41160               2015             August                        33   \n",
       "\n",
       "       arrival_date_day_of_month  stays_in_weekend_nights  \\\n",
       "40600                          3                        1   \n",
       "40667                          5                        0   \n",
       "40679                          5                        0   \n",
       "41160                         13                        2   \n",
       "\n",
       "       stays_in_week_nights  ...  adults  children  babies  meal country  \\\n",
       "40600                     0  ...       2       NaN       0    BB     PRT   \n",
       "40667                     2  ...       2       NaN       0    BB     PRT   \n",
       "40679                     2  ...       3       NaN       0    BB     PRT   \n",
       "41160                     5  ...       2       NaN       0    BB     PRT   \n",
       "\n",
       "      reserved_room_type assigned_room_type    customer_type  \\\n",
       "40600                  B                  B  Transient-Party   \n",
       "40667                  B                  B  Transient-Party   \n",
       "40679                  B                  B  Transient-Party   \n",
       "41160                  B                  B  Transient-Party   \n",
       "\n",
       "      reservation_status reservation_status_date  \n",
       "40600           Canceled              2015-08-01  \n",
       "40667           Canceled              2015-08-04  \n",
       "40679           Canceled              2015-08-04  \n",
       "41160           Canceled              2015-08-09  \n",
       "\n",
       "[4 rows x 21 columns]"
      ]
     },
     "execution_count": 40,
     "metadata": {},
     "output_type": "execute_result"
    }
   ],
   "source": [
    "booking[booking.children.isna()]"
   ]
  },
  {
   "cell_type": "code",
   "execution_count": 42,
   "id": "62dbc1a0",
   "metadata": {},
   "outputs": [
    {
     "data": {
      "text/plain": [
       "hotel                                 City Hotel\n",
       "is_canceled                                    1\n",
       "lead_time                                      2\n",
       "arrival_full_date            2015-08-03 00:00:00\n",
       "arrival_date_year                           2015\n",
       "arrival_date_month                        August\n",
       "arrival_date_week_number                      32\n",
       "arrival_date_day_of_month                      3\n",
       "stays_in_weekend_nights                        1\n",
       "stays_in_week_nights                           0\n",
       "stays_total_nights                             1\n",
       "adults                                         2\n",
       "children                                     NaN\n",
       "babies                                         0\n",
       "meal                                          BB\n",
       "country                                      PRT\n",
       "reserved_room_type                             B\n",
       "assigned_room_type                             B\n",
       "customer_type                    Transient-Party\n",
       "reservation_status                      Canceled\n",
       "reservation_status_date      2015-08-01 00:00:00\n",
       "Name: 40600, dtype: object"
      ]
     },
     "execution_count": 42,
     "metadata": {},
     "output_type": "execute_result"
    }
   ],
   "source": [
    "booking.iloc[40600]"
   ]
  },
  {
   "cell_type": "code",
   "execution_count": 24,
   "id": "0967b774",
   "metadata": {},
   "outputs": [],
   "source": [
    "booking.arrival_full_date = pd.to_datetime(booking.arrival_full_date)\n",
    "booking.reservation_status_date = pd.to_datetime(booking.reservation_status_date)"
   ]
  },
  {
   "cell_type": "code",
   "execution_count": 32,
   "id": "b280e0b9",
   "metadata": {},
   "outputs": [
    {
     "data": {
      "text/plain": [
       "119386"
      ]
     },
     "execution_count": 32,
     "metadata": {},
     "output_type": "execute_result"
    }
   ],
   "source": [
    "booking.children.value_counts().sum()"
   ]
  },
  {
   "cell_type": "code",
   "execution_count": 50,
   "id": "02e04b67",
   "metadata": {},
   "outputs": [
    {
     "data": {
      "text/html": [
       "<div>\n",
       "<style scoped>\n",
       "    .dataframe tbody tr th:only-of-type {\n",
       "        vertical-align: middle;\n",
       "    }\n",
       "\n",
       "    .dataframe tbody tr th {\n",
       "        vertical-align: top;\n",
       "    }\n",
       "\n",
       "    .dataframe thead th {\n",
       "        text-align: right;\n",
       "    }\n",
       "</style>\n",
       "<table border=\"1\" class=\"dataframe\">\n",
       "  <thead>\n",
       "    <tr style=\"text-align: right;\">\n",
       "      <th></th>\n",
       "      <th>is_canceled</th>\n",
       "      <th>lead_time</th>\n",
       "      <th>arrival_date_year</th>\n",
       "      <th>arrival_date_week_number</th>\n",
       "      <th>arrival_date_day_of_month</th>\n",
       "      <th>stays_in_weekend_nights</th>\n",
       "      <th>stays_in_week_nights</th>\n",
       "      <th>stays_total_nights</th>\n",
       "      <th>adults</th>\n",
       "      <th>children</th>\n",
       "      <th>babies</th>\n",
       "    </tr>\n",
       "  </thead>\n",
       "  <tbody>\n",
       "    <tr>\n",
       "      <th>count</th>\n",
       "      <td>119390.000000</td>\n",
       "      <td>119390.000000</td>\n",
       "      <td>119390.000000</td>\n",
       "      <td>119390.000000</td>\n",
       "      <td>119390.000000</td>\n",
       "      <td>119390.000000</td>\n",
       "      <td>119390.000000</td>\n",
       "      <td>119390.000000</td>\n",
       "      <td>119390.000000</td>\n",
       "      <td>119386.000000</td>\n",
       "      <td>119390.000000</td>\n",
       "    </tr>\n",
       "    <tr>\n",
       "      <th>mean</th>\n",
       "      <td>0.370416</td>\n",
       "      <td>104.011416</td>\n",
       "      <td>2016.156554</td>\n",
       "      <td>27.165173</td>\n",
       "      <td>15.798241</td>\n",
       "      <td>0.927599</td>\n",
       "      <td>2.500302</td>\n",
       "      <td>3.427900</td>\n",
       "      <td>1.856403</td>\n",
       "      <td>0.103890</td>\n",
       "      <td>0.007949</td>\n",
       "    </tr>\n",
       "    <tr>\n",
       "      <th>std</th>\n",
       "      <td>0.482918</td>\n",
       "      <td>106.863097</td>\n",
       "      <td>0.707476</td>\n",
       "      <td>13.605138</td>\n",
       "      <td>8.780829</td>\n",
       "      <td>0.998613</td>\n",
       "      <td>1.908286</td>\n",
       "      <td>2.557439</td>\n",
       "      <td>0.579261</td>\n",
       "      <td>0.398561</td>\n",
       "      <td>0.097436</td>\n",
       "    </tr>\n",
       "    <tr>\n",
       "      <th>min</th>\n",
       "      <td>0.000000</td>\n",
       "      <td>0.000000</td>\n",
       "      <td>2015.000000</td>\n",
       "      <td>1.000000</td>\n",
       "      <td>1.000000</td>\n",
       "      <td>0.000000</td>\n",
       "      <td>0.000000</td>\n",
       "      <td>0.000000</td>\n",
       "      <td>0.000000</td>\n",
       "      <td>0.000000</td>\n",
       "      <td>0.000000</td>\n",
       "    </tr>\n",
       "    <tr>\n",
       "      <th>25%</th>\n",
       "      <td>0.000000</td>\n",
       "      <td>18.000000</td>\n",
       "      <td>2016.000000</td>\n",
       "      <td>16.000000</td>\n",
       "      <td>8.000000</td>\n",
       "      <td>0.000000</td>\n",
       "      <td>1.000000</td>\n",
       "      <td>2.000000</td>\n",
       "      <td>2.000000</td>\n",
       "      <td>0.000000</td>\n",
       "      <td>0.000000</td>\n",
       "    </tr>\n",
       "    <tr>\n",
       "      <th>50%</th>\n",
       "      <td>0.000000</td>\n",
       "      <td>69.000000</td>\n",
       "      <td>2016.000000</td>\n",
       "      <td>28.000000</td>\n",
       "      <td>16.000000</td>\n",
       "      <td>1.000000</td>\n",
       "      <td>2.000000</td>\n",
       "      <td>3.000000</td>\n",
       "      <td>2.000000</td>\n",
       "      <td>0.000000</td>\n",
       "      <td>0.000000</td>\n",
       "    </tr>\n",
       "    <tr>\n",
       "      <th>75%</th>\n",
       "      <td>1.000000</td>\n",
       "      <td>160.000000</td>\n",
       "      <td>2017.000000</td>\n",
       "      <td>38.000000</td>\n",
       "      <td>23.000000</td>\n",
       "      <td>2.000000</td>\n",
       "      <td>3.000000</td>\n",
       "      <td>4.000000</td>\n",
       "      <td>2.000000</td>\n",
       "      <td>0.000000</td>\n",
       "      <td>0.000000</td>\n",
       "    </tr>\n",
       "    <tr>\n",
       "      <th>max</th>\n",
       "      <td>1.000000</td>\n",
       "      <td>737.000000</td>\n",
       "      <td>2017.000000</td>\n",
       "      <td>53.000000</td>\n",
       "      <td>31.000000</td>\n",
       "      <td>19.000000</td>\n",
       "      <td>50.000000</td>\n",
       "      <td>69.000000</td>\n",
       "      <td>55.000000</td>\n",
       "      <td>10.000000</td>\n",
       "      <td>10.000000</td>\n",
       "    </tr>\n",
       "  </tbody>\n",
       "</table>\n",
       "</div>"
      ],
      "text/plain": [
       "         is_canceled      lead_time  arrival_date_year  \\\n",
       "count  119390.000000  119390.000000      119390.000000   \n",
       "mean        0.370416     104.011416        2016.156554   \n",
       "std         0.482918     106.863097           0.707476   \n",
       "min         0.000000       0.000000        2015.000000   \n",
       "25%         0.000000      18.000000        2016.000000   \n",
       "50%         0.000000      69.000000        2016.000000   \n",
       "75%         1.000000     160.000000        2017.000000   \n",
       "max         1.000000     737.000000        2017.000000   \n",
       "\n",
       "       arrival_date_week_number  arrival_date_day_of_month  \\\n",
       "count             119390.000000              119390.000000   \n",
       "mean                  27.165173                  15.798241   \n",
       "std                   13.605138                   8.780829   \n",
       "min                    1.000000                   1.000000   \n",
       "25%                   16.000000                   8.000000   \n",
       "50%                   28.000000                  16.000000   \n",
       "75%                   38.000000                  23.000000   \n",
       "max                   53.000000                  31.000000   \n",
       "\n",
       "       stays_in_weekend_nights  stays_in_week_nights  stays_total_nights  \\\n",
       "count            119390.000000         119390.000000       119390.000000   \n",
       "mean                  0.927599              2.500302            3.427900   \n",
       "std                   0.998613              1.908286            2.557439   \n",
       "min                   0.000000              0.000000            0.000000   \n",
       "25%                   0.000000              1.000000            2.000000   \n",
       "50%                   1.000000              2.000000            3.000000   \n",
       "75%                   2.000000              3.000000            4.000000   \n",
       "max                  19.000000             50.000000           69.000000   \n",
       "\n",
       "              adults       children         babies  \n",
       "count  119390.000000  119386.000000  119390.000000  \n",
       "mean        1.856403       0.103890       0.007949  \n",
       "std         0.579261       0.398561       0.097436  \n",
       "min         0.000000       0.000000       0.000000  \n",
       "25%         2.000000       0.000000       0.000000  \n",
       "50%         2.000000       0.000000       0.000000  \n",
       "75%         2.000000       0.000000       0.000000  \n",
       "max        55.000000      10.000000      10.000000  "
      ]
     },
     "execution_count": 50,
     "metadata": {},
     "output_type": "execute_result"
    }
   ],
   "source": [
    "booking.describe()"
   ]
  },
  {
   "cell_type": "markdown",
   "id": "c7b571da",
   "metadata": {},
   "source": [
    "## Пользователи из каких стран совершили наибольшее число успешных бронирований? Укажите топ-5.\n"
   ]
  },
  {
   "cell_type": "code",
   "execution_count": 54,
   "id": "213405db",
   "metadata": {},
   "outputs": [
    {
     "data": {
      "text/html": [
       "<div>\n",
       "<style scoped>\n",
       "    .dataframe tbody tr th:only-of-type {\n",
       "        vertical-align: middle;\n",
       "    }\n",
       "\n",
       "    .dataframe tbody tr th {\n",
       "        vertical-align: top;\n",
       "    }\n",
       "\n",
       "    .dataframe thead th {\n",
       "        text-align: right;\n",
       "    }\n",
       "</style>\n",
       "<table border=\"1\" class=\"dataframe\">\n",
       "  <thead>\n",
       "    <tr style=\"text-align: right;\">\n",
       "      <th></th>\n",
       "      <th>country</th>\n",
       "      <th>hotel</th>\n",
       "    </tr>\n",
       "  </thead>\n",
       "  <tbody>\n",
       "    <tr>\n",
       "      <th>125</th>\n",
       "      <td>PRT</td>\n",
       "      <td>21071</td>\n",
       "    </tr>\n",
       "    <tr>\n",
       "      <th>57</th>\n",
       "      <td>GBR</td>\n",
       "      <td>9676</td>\n",
       "    </tr>\n",
       "    <tr>\n",
       "      <th>54</th>\n",
       "      <td>FRA</td>\n",
       "      <td>8481</td>\n",
       "    </tr>\n",
       "    <tr>\n",
       "      <th>50</th>\n",
       "      <td>ESP</td>\n",
       "      <td>6391</td>\n",
       "    </tr>\n",
       "    <tr>\n",
       "      <th>42</th>\n",
       "      <td>DEU</td>\n",
       "      <td>6069</td>\n",
       "    </tr>\n",
       "  </tbody>\n",
       "</table>\n",
       "</div>"
      ],
      "text/plain": [
       "    country  hotel\n",
       "125     PRT  21071\n",
       "57      GBR   9676\n",
       "54      FRA   8481\n",
       "50      ESP   6391\n",
       "42      DEU   6069"
      ]
     },
     "execution_count": 54,
     "metadata": {},
     "output_type": "execute_result"
    }
   ],
   "source": [
    "succes_by_country = booking.query('is_canceled == 0') \\\n",
    "    .groupby(by='country', as_index=False) \\\n",
    "    .agg({'hotel': 'count'}) \\\n",
    "    .sort_values(by='hotel', ascending=False) \\\n",
    "    .head(5)\n",
    "succes_by_country"
   ]
  },
  {
   "cell_type": "code",
   "execution_count": 57,
   "id": "2c0f0b3e",
   "metadata": {},
   "outputs": [
    {
     "data": {
      "text/plain": [
       "<AxesSubplot:xlabel='country'>"
      ]
     },
     "execution_count": 57,
     "metadata": {},
     "output_type": "execute_result"
    },
    {
     "data": {
      "image/png": "[encoded data removed]",
      "text/plain": [
       "<Figure size 432x288 with 1 Axes>"
      ]
     },
     "metadata": {
      "needs_background": "light"
     },
     "output_type": "display_data"
    }
   ],
   "source": [
    "succes_by_country.plot(x='country', y='hotel', kind='bar')"
   ]
  },
  {
   "cell_type": "markdown",
   "id": "069d3391",
   "metadata": {},
   "source": [
    "## На сколько ночей в среднем бронируют отели разных типов?"
   ]
  },
  {
   "cell_type": "code",
   "execution_count": 58,
   "id": "11498211",
   "metadata": {},
   "outputs": [
    {
     "data": {
      "text/html": [
       "<div>\n",
       "<style scoped>\n",
       "    .dataframe tbody tr th:only-of-type {\n",
       "        vertical-align: middle;\n",
       "    }\n",
       "\n",
       "    .dataframe tbody tr th {\n",
       "        vertical-align: top;\n",
       "    }\n",
       "\n",
       "    .dataframe thead th {\n",
       "        text-align: right;\n",
       "    }\n",
       "</style>\n",
       "<table border=\"1\" class=\"dataframe\">\n",
       "  <thead>\n",
       "    <tr style=\"text-align: right;\">\n",
       "      <th></th>\n",
       "      <th>hotel</th>\n",
       "      <th>stays_total_nights</th>\n",
       "    </tr>\n",
       "  </thead>\n",
       "  <tbody>\n",
       "    <tr>\n",
       "      <th>0</th>\n",
       "      <td>City Hotel</td>\n",
       "      <td>2.978142</td>\n",
       "    </tr>\n",
       "    <tr>\n",
       "      <th>1</th>\n",
       "      <td>Resort Hotel</td>\n",
       "      <td>4.318547</td>\n",
       "    </tr>\n",
       "  </tbody>\n",
       "</table>\n",
       "</div>"
      ],
      "text/plain": [
       "          hotel  stays_total_nights\n",
       "0    City Hotel            2.978142\n",
       "1  Resort Hotel            4.318547"
      ]
     },
     "execution_count": 58,
     "metadata": {},
     "output_type": "execute_result"
    }
   ],
   "source": [
    "hotel_total_night = booking.groupby(by='hotel', as_index=False).agg({'stays_total_nights': 'mean'})\n",
    "hotel_total_night"
   ]
  },
  {
   "cell_type": "code",
   "execution_count": 62,
   "id": "1cc7d290",
   "metadata": {},
   "outputs": [
    {
     "data": {
      "text/plain": [
       "<AxesSubplot:xlabel='hotel'>"
      ]
     },
     "execution_count": 62,
     "metadata": {},
     "output_type": "execute_result"
    },
    {
     "data": {
      "image/png": "[encoded data removed]",
      "text/plain": [
       "<Figure size 432x288 with 1 Axes>"
      ]
     },
     "metadata": {
      "needs_background": "light"
     },
     "output_type": "display_data"
    }
   ],
   "source": [
    "hotel_total_night.plot(x='hotel', y='stays_total_nights', kind='bar')"
   ]
  },
  {
   "cell_type": "markdown",
   "id": "abcd7eaf",
   "metadata": {},
   "source": [
    "## Иногда тип номера, полученного клиентом (assigned_room_type), отличается от изначально забронированного (reserved_room_type). Такое может произойти, например, по причине овербукинга. Сколько подобных наблюдений встретилось в датасете?"
   ]
  }
 ],
 "metadata": {
  "kernelspec": {
   "display_name": "Python 3 (ipykernel)",
   "language": "python",
   "name": "python3"
  },
  "language_info": {
   "codemirror_mode": {
    "name": "ipython",
    "version": 3
   },
   "file_extension": ".py",
   "mimetype": "text/x-python",
   "name": "python",
   "nbconvert_exporter": "python",
   "pygments_lexer": "ipython3",
   "version": "3.9.7"
  }
 },
 "nbformat": 4,
 "nbformat_minor": 5
}
